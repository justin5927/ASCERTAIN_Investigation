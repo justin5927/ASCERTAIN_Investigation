{
 "cells": [
  {
   "cell_type": "code",
   "execution_count": 1,
   "metadata": {},
   "outputs": [],
   "source": [
    "import os \n",
    "import pandas as pd \n",
    "from sklearn.cluster import DBSCAN\n",
    "from sklearn.metrics import silhouette_score\n",
    "from sklearn.metrics.cluster import adjusted_rand_score\n",
    "from itertools import combinations\n",
    "from itertools import product\n",
    "from tqdm import tqdm\n",
    "import numpy as np \n",
    "import pickle "
   ]
  },
  {
   "cell_type": "code",
   "execution_count": 2,
   "metadata": {},
   "outputs": [],
   "source": [
    "# Load data\n",
    "data_path = \"../../data\"\n",
    "X_train = pd.read_csv(os.path.join(data_path, \"X_train.csv\"))\n",
    "y_train = pd.read_csv(os.path.join(data_path, \"y_train.csv\"))\n",
    "X_test = pd.read_csv(os.path.join(data_path, \"X_test.csv\"))\n",
    "y_test = pd.read_csv(os.path.join(data_path, \"y_test.csv\"))\n",
    "# For unsupervising task we do not need to separate dataset into train and test sets|\n",
    "X = pd.concat([X_train, X_test])\n",
    "y = pd.concat([y_train, y_test])"
   ]
  },
  {
   "cell_type": "code",
   "execution_count": 3,
   "metadata": {},
   "outputs": [
    {
     "name": "stdout",
     "output_type": "stream",
     "text": [
      "Total number of feature combinations: 20\n"
     ]
    }
   ],
   "source": [
    "# Total number of feature combinations\n",
    "all_combinations = []\n",
    "for r in range(18, len(X.columns) + 1):\n",
    "    for combo in combinations(X.columns, r):\n",
    "        all_combinations.append(list(combo))\n",
    "print(f\"Total number of feature combinations: {len(all_combinations)}\")"
   ]
  },
  {
   "cell_type": "code",
   "execution_count": 4,
   "metadata": {},
   "outputs": [],
   "source": [
    "# Parameters\n",
    "traits = ['Extraversion_bin', 'Agreeableness_bin', 'Conscientiousness_bin', 'Emotional Stability_bin', 'Openness_bin']\n",
    "label_mapping = {'negative': 0, 'neutral': 1, 'positive': 2}\n",
    "eps_values = np.arange(0.3, 1.0, 0.1)  \n",
    "min_samples_values = range(2, 10)  \n",
    "random_state = 27\n",
    "\n",
    "# Create results directory\n",
    "results_path = \"../../results\"\n",
    "specific_results_path = os.path.join(\"../../results\", \"dbscan_non_pca\")\n",
    "os.makedirs(results_path, exist_ok=True)\n",
    "os.makedirs(specific_results_path, exist_ok=True)"
   ]
  },
  {
   "cell_type": "code",
   "execution_count": 5,
   "metadata": {},
   "outputs": [
    {
     "name": "stdout",
     "output_type": "stream",
     "text": [
      "Extraversion_bin\n"
     ]
    },
    {
     "name": "stderr",
     "output_type": "stream",
     "text": [
      "100%|██████████| 20/20 [05:05<00:00, 15.28s/it]\n"
     ]
    },
    {
     "name": "stdout",
     "output_type": "stream",
     "text": [
      "Agreeableness_bin\n"
     ]
    },
    {
     "name": "stderr",
     "output_type": "stream",
     "text": [
      "100%|██████████| 20/20 [13:04<00:00, 39.21s/it]\n"
     ]
    },
    {
     "name": "stdout",
     "output_type": "stream",
     "text": [
      "Conscientiousness_bin\n"
     ]
    },
    {
     "name": "stderr",
     "output_type": "stream",
     "text": [
      "100%|██████████| 20/20 [14:29<00:00, 43.46s/it]\n"
     ]
    },
    {
     "name": "stdout",
     "output_type": "stream",
     "text": [
      "Emotional Stability_bin\n"
     ]
    },
    {
     "name": "stderr",
     "output_type": "stream",
     "text": [
      "100%|██████████| 20/20 [14:14<00:00, 42.73s/it]\n"
     ]
    },
    {
     "name": "stdout",
     "output_type": "stream",
     "text": [
      "Openness_bin\n"
     ]
    },
    {
     "name": "stderr",
     "output_type": "stream",
     "text": [
      "100%|██████████| 20/20 [14:22<00:00, 43.13s/it]\n"
     ]
    }
   ],
   "source": [
    "output_metrics = []\n",
    "for trait in traits:\n",
    "    print(trait)\n",
    "    y_labels = [label_mapping[label] for label in y[trait]]\n",
    "    # Iterate over all combinations of hyperparameters\n",
    "    best_ari = -1\n",
    "    best_params = {'features': None, 'eps': None, 'min_samples': None}\n",
    "    for perm in tqdm(all_combinations):\n",
    "        selected_features = X[perm]\n",
    "        for eps, min_samples in product(eps_values, min_samples_values):\n",
    "            db = DBSCAN(eps=eps, min_samples=min_samples).fit(selected_features)\n",
    "            cluster_labels = db.labels_\n",
    "            ari = adjusted_rand_score(y_labels, cluster_labels)\n",
    "            if ari > best_ari:\n",
    "                best_ari = ari\n",
    "                best_params['features'] = perm\n",
    "                best_params['eps'] = eps\n",
    "                best_params['min_samples'] = min_samples\n",
    "    final_clusterer = best_params['min_samples'] \n",
    "    output_template = {\n",
    "        \"trait\": trait, \n",
    "        \"top_features\": best_params['features'],\n",
    "        \"eps\": best_params[\"eps\"],\n",
    "        \"ARI\": best_ari,\n",
    "        }\n",
    "    output_metrics.append(output_template)"
   ]
  },
  {
   "cell_type": "code",
   "execution_count": 6,
   "metadata": {},
   "outputs": [],
   "source": [
    "with open(os.path.join(specific_results_path, 'dbscan_ari_driven.pkl'), 'wb') as file:\n",
    "    pickle.dump(output_metrics, file)\n",
    "# Test load\n",
    "with open(os.path.join(specific_results_path, 'dbscan_ari_driven.pkl'), 'rb') as file:\n",
    "    output_metrics_test = pickle.load(file)"
   ]
  },
  {
   "cell_type": "code",
   "execution_count": 7,
   "metadata": {},
   "outputs": [
    {
     "data": {
      "text/plain": [
       "[{'trait': 'Extraversion_bin',\n",
       "  'top_features': ['ibi_5',\n",
       "   'ibi_6',\n",
       "   'hr_1',\n",
       "   'hr_2',\n",
       "   'hr_3',\n",
       "   'hr_4',\n",
       "   'hr_5',\n",
       "   'hr_6',\n",
       "   'hrv_1',\n",
       "   'hrv_2',\n",
       "   'hrv_3',\n",
       "   'hrv_4',\n",
       "   'hrv_5',\n",
       "   'hrv_6',\n",
       "   'Valence',\n",
       "   'Engagement',\n",
       "   'Liking',\n",
       "   'Familiarity'],\n",
       "  'eps': 0.3,\n",
       "  'ARI': 0.04200705793405078},\n",
       " {'trait': 'Agreeableness_bin',\n",
       "  'top_features': ['ibi_5',\n",
       "   'ibi_6',\n",
       "   'hr_1',\n",
       "   'hr_2',\n",
       "   'hr_3',\n",
       "   'hr_4',\n",
       "   'hr_5',\n",
       "   'hr_6',\n",
       "   'hrv_1',\n",
       "   'hrv_2',\n",
       "   'hrv_3',\n",
       "   'hrv_4',\n",
       "   'hrv_5',\n",
       "   'hrv_6',\n",
       "   'Arousal',\n",
       "   'Engagement',\n",
       "   'Liking',\n",
       "   'Familiarity'],\n",
       "  'eps': 0.4,\n",
       "  'ARI': 0.012120885959031907},\n",
       " {'trait': 'Conscientiousness_bin',\n",
       "  'top_features': ['ibi_5',\n",
       "   'ibi_6',\n",
       "   'hr_1',\n",
       "   'hr_2',\n",
       "   'hr_3',\n",
       "   'hr_4',\n",
       "   'hr_5',\n",
       "   'hr_6',\n",
       "   'hrv_1',\n",
       "   'hrv_2',\n",
       "   'hrv_3',\n",
       "   'hrv_4',\n",
       "   'hrv_5',\n",
       "   'Arousal',\n",
       "   'Valence',\n",
       "   'Engagement',\n",
       "   'Liking',\n",
       "   'Familiarity'],\n",
       "  'eps': 0.4,\n",
       "  'ARI': 0.011153571582787444},\n",
       " {'trait': 'Emotional Stability_bin',\n",
       "  'top_features': ['ibi_5',\n",
       "   'ibi_6',\n",
       "   'hr_1',\n",
       "   'hr_2',\n",
       "   'hr_3',\n",
       "   'hr_4',\n",
       "   'hr_5',\n",
       "   'hr_6',\n",
       "   'hrv_1',\n",
       "   'hrv_2',\n",
       "   'hrv_3',\n",
       "   'hrv_4',\n",
       "   'hrv_5',\n",
       "   'hrv_6',\n",
       "   'Arousal',\n",
       "   'Valence',\n",
       "   'Engagement',\n",
       "   'Familiarity'],\n",
       "  'eps': 0.6000000000000001,\n",
       "  'ARI': 0.09120679773149765},\n",
       " {'trait': 'Openness_bin',\n",
       "  'top_features': ['ibi_5',\n",
       "   'ibi_6',\n",
       "   'hr_1',\n",
       "   'hr_2',\n",
       "   'hr_3',\n",
       "   'hr_4',\n",
       "   'hr_5',\n",
       "   'hrv_1',\n",
       "   'hrv_2',\n",
       "   'hrv_3',\n",
       "   'hrv_4',\n",
       "   'hrv_5',\n",
       "   'hrv_6',\n",
       "   'Arousal',\n",
       "   'Valence',\n",
       "   'Engagement',\n",
       "   'Liking',\n",
       "   'Familiarity'],\n",
       "  'eps': 0.4,\n",
       "  'ARI': 0.027141069531778923}]"
      ]
     },
     "execution_count": 7,
     "metadata": {},
     "output_type": "execute_result"
    }
   ],
   "source": [
    "output_metrics_test"
   ]
  },
  {
   "cell_type": "code",
   "execution_count": null,
   "metadata": {},
   "outputs": [],
   "source": []
  }
 ],
 "metadata": {
  "kernelspec": {
   "display_name": ".venv",
   "language": "python",
   "name": "python3"
  },
  "language_info": {
   "codemirror_mode": {
    "name": "ipython",
    "version": 3
   },
   "file_extension": ".py",
   "mimetype": "text/x-python",
   "name": "python",
   "nbconvert_exporter": "python",
   "pygments_lexer": "ipython3",
   "version": "3.11.5"
  },
  "orig_nbformat": 4
 },
 "nbformat": 4,
 "nbformat_minor": 2
}
