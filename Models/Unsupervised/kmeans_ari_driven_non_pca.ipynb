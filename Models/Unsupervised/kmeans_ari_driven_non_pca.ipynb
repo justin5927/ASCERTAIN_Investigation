{
 "cells": [
  {
   "cell_type": "code",
   "execution_count": 1,
   "metadata": {},
   "outputs": [],
   "source": [
    "import os \n",
    "import pandas as pd \n",
    "from sklearn.cluster import KMeans\n",
    "from sklearn.metrics import silhouette_score\n",
    "from sklearn.metrics.cluster import adjusted_rand_score\n",
    "from itertools import combinations\n",
    "from tqdm import tqdm\n",
    "import numpy as np \n",
    "import pickle "
   ]
  },
  {
   "cell_type": "code",
   "execution_count": 2,
   "metadata": {},
   "outputs": [],
   "source": [
    "# Load data\n",
    "data_path = \"../../data\"\n",
    "X_train = pd.read_csv(os.path.join(data_path, \"X_train.csv\"))\n",
    "y_train = pd.read_csv(os.path.join(data_path, \"y_train.csv\"))\n",
    "X_test = pd.read_csv(os.path.join(data_path, \"X_test.csv\"))\n",
    "y_test = pd.read_csv(os.path.join(data_path, \"y_test.csv\"))\n",
    "# For unsupervising task we do not need to separate dataset into train and test sets|\n",
    "X = pd.concat([X_train, X_test])\n",
    "y = pd.concat([y_train, y_test])"
   ]
  },
  {
   "cell_type": "code",
   "execution_count": 3,
   "metadata": {},
   "outputs": [
    {
     "name": "stdout",
     "output_type": "stream",
     "text": [
      "Total number of feature combinations: 20\n"
     ]
    }
   ],
   "source": [
    "# Total number of feature combinations\n",
    "all_combinations = []\n",
    "for r in range(18, len(X.columns) + 1):\n",
    "    for combo in combinations(X.columns, r):\n",
    "        all_combinations.append(list(combo))\n",
    "print(f\"Total number of feature combinations: {len(all_combinations)}\")"
   ]
  },
  {
   "cell_type": "code",
   "execution_count": 4,
   "metadata": {},
   "outputs": [],
   "source": [
    "# Note on silhouette scoring \n",
    "# going to default with euclidean for the purposes of this paper\n",
    "# distance_metrics = ['cityblock', 'cosine', 'euclidean', 'manhattan']"
   ]
  },
  {
   "cell_type": "code",
   "execution_count": 5,
   "metadata": {},
   "outputs": [],
   "source": [
    "# Parameters\n",
    "traits = ['Extraversion_bin', 'Agreeableness_bin', 'Conscientiousness_bin', 'Emotional Stability_bin', 'Openness_bin']\n",
    "label_mapping = {'negative': 0, 'neutral': 1, 'positive': 2}\n",
    "k_values = [2,3,4,5,6,7,8,9,10,15,20,25,30,40,50] # values are from 0 to 7 for each personality trait \n",
    "\n",
    "random_state = 27\n",
    "\n",
    "# Create results directory\n",
    "results_path = \"../../results\"\n",
    "specific_results_path = os.path.join(\"../../results\", \"kmeans_non_pca\")\n",
    "os.makedirs(results_path, exist_ok=True)\n",
    "os.makedirs(specific_results_path, exist_ok=True)"
   ]
  },
  {
   "cell_type": "code",
   "execution_count": 6,
   "metadata": {},
   "outputs": [
    {
     "name": "stdout",
     "output_type": "stream",
     "text": [
      "Extraversion_bin\n"
     ]
    },
    {
     "name": "stderr",
     "output_type": "stream",
     "text": [
      "100%|██████████| 20/20 [07:26<00:00, 22.35s/it]\n"
     ]
    },
    {
     "name": "stdout",
     "output_type": "stream",
     "text": [
      "Agreeableness_bin\n"
     ]
    },
    {
     "name": "stderr",
     "output_type": "stream",
     "text": [
      "100%|██████████| 20/20 [07:50<00:00, 23.53s/it]\n"
     ]
    },
    {
     "name": "stdout",
     "output_type": "stream",
     "text": [
      "Conscientiousness_bin\n"
     ]
    },
    {
     "name": "stderr",
     "output_type": "stream",
     "text": [
      "100%|██████████| 20/20 [07:53<00:00, 23.65s/it]\n"
     ]
    },
    {
     "name": "stdout",
     "output_type": "stream",
     "text": [
      "Emotional Stability_bin\n"
     ]
    },
    {
     "name": "stderr",
     "output_type": "stream",
     "text": [
      "100%|██████████| 20/20 [07:42<00:00, 23.14s/it]\n"
     ]
    },
    {
     "name": "stdout",
     "output_type": "stream",
     "text": [
      "Openness_bin\n"
     ]
    },
    {
     "name": "stderr",
     "output_type": "stream",
     "text": [
      "100%|██████████| 20/20 [08:11<00:00, 24.56s/it]\n"
     ]
    }
   ],
   "source": [
    "output_metrics = []\n",
    "for trait in traits:\n",
    "    print(trait)\n",
    "    y_labels = [label_mapping[label] for label in y[trait]]\n",
    "    metrics = []\n",
    "    ari_scores = []\n",
    "    for perm in tqdm(all_combinations):\n",
    "        selected_features = X[perm]\n",
    "        for k in k_values:\n",
    "            clusterer = KMeans(n_clusters=k, random_state=random_state, n_init=\"auto\").fit(selected_features)\n",
    "            cluster_labels = clusterer.labels_\n",
    "            metrics.append({\"features\": perm, \"clusterer\": clusterer})\n",
    "            ari_scores.append(adjusted_rand_score(y_labels, cluster_labels))\n",
    "    top_features = metrics[np.argmax(ari_scores)][\"features\"]\n",
    "    final_clusterer = metrics[np.argmax(ari_scores)][\"clusterer\"]\n",
    "    output_template = {\n",
    "        \"trait\": trait, \n",
    "        \"top_features\": top_features,\n",
    "        \"optimal_k\": final_clusterer.n_clusters,\n",
    "        \"clusterer\": final_clusterer,\n",
    "        \"ARI\": max(ari_scores),\n",
    "        }\n",
    "    output_metrics.append(output_template)"
   ]
  },
  {
   "cell_type": "code",
   "execution_count": 7,
   "metadata": {},
   "outputs": [],
   "source": [
    "with open(os.path.join(specific_results_path, 'kmeans_ari_driven.pkl'), 'wb') as file:\n",
    "    pickle.dump(output_metrics, file)\n",
    "# Test load\n",
    "with open(os.path.join(specific_results_path, 'kmeans_ari_driven.pkl'), 'rb') as file:\n",
    "    output_metrics_test = pickle.load(file)"
   ]
  },
  {
   "cell_type": "code",
   "execution_count": 8,
   "metadata": {},
   "outputs": [
    {
     "data": {
      "text/plain": [
       "[{'trait': 'Extraversion_bin',\n",
       "  'top_features': ['ibi_5',\n",
       "   'ibi_6',\n",
       "   'hr_1',\n",
       "   'hr_2',\n",
       "   'hr_3',\n",
       "   'hr_4',\n",
       "   'hr_5',\n",
       "   'hr_6',\n",
       "   'hrv_1',\n",
       "   'hrv_2',\n",
       "   'hrv_3',\n",
       "   'hrv_4',\n",
       "   'hrv_5',\n",
       "   'hrv_6',\n",
       "   'Arousal',\n",
       "   'Valence',\n",
       "   'Engagement',\n",
       "   'Familiarity'],\n",
       "  'optimal_k': 2,\n",
       "  'clusterer': KMeans(n_clusters=2, n_init='auto', random_state=27),\n",
       "  'ARI': 0.015853707085133218},\n",
       " {'trait': 'Agreeableness_bin',\n",
       "  'top_features': ['ibi_6',\n",
       "   'hr_1',\n",
       "   'hr_2',\n",
       "   'hr_3',\n",
       "   'hr_4',\n",
       "   'hr_5',\n",
       "   'hr_6',\n",
       "   'hrv_1',\n",
       "   'hrv_2',\n",
       "   'hrv_3',\n",
       "   'hrv_4',\n",
       "   'hrv_5',\n",
       "   'hrv_6',\n",
       "   'Arousal',\n",
       "   'Valence',\n",
       "   'Engagement',\n",
       "   'Liking',\n",
       "   'Familiarity'],\n",
       "  'optimal_k': 2,\n",
       "  'clusterer': KMeans(n_clusters=2, n_init='auto', random_state=27),\n",
       "  'ARI': 0.008993087142347476},\n",
       " {'trait': 'Conscientiousness_bin',\n",
       "  'top_features': ['ibi_5',\n",
       "   'ibi_6',\n",
       "   'hr_1',\n",
       "   'hr_2',\n",
       "   'hr_3',\n",
       "   'hr_4',\n",
       "   'hr_5',\n",
       "   'hr_6',\n",
       "   'hrv_1',\n",
       "   'hrv_2',\n",
       "   'hrv_3',\n",
       "   'hrv_4',\n",
       "   'hrv_5',\n",
       "   'hrv_6',\n",
       "   'Valence',\n",
       "   'Engagement',\n",
       "   'Liking',\n",
       "   'Familiarity'],\n",
       "  'optimal_k': 3,\n",
       "  'clusterer': KMeans(n_clusters=3, n_init='auto', random_state=27),\n",
       "  'ARI': 0.017742394583433116},\n",
       " {'trait': 'Emotional Stability_bin',\n",
       "  'top_features': ['ibi_6',\n",
       "   'hr_1',\n",
       "   'hr_2',\n",
       "   'hr_3',\n",
       "   'hr_4',\n",
       "   'hr_5',\n",
       "   'hr_6',\n",
       "   'hrv_1',\n",
       "   'hrv_2',\n",
       "   'hrv_3',\n",
       "   'hrv_4',\n",
       "   'hrv_5',\n",
       "   'hrv_6',\n",
       "   'Arousal',\n",
       "   'Valence',\n",
       "   'Engagement',\n",
       "   'Liking',\n",
       "   'Familiarity'],\n",
       "  'optimal_k': 2,\n",
       "  'clusterer': KMeans(n_clusters=2, n_init='auto', random_state=27),\n",
       "  'ARI': 0.08614776676359288},\n",
       " {'trait': 'Openness_bin',\n",
       "  'top_features': ['ibi_5',\n",
       "   'ibi_6',\n",
       "   'hr_1',\n",
       "   'hr_2',\n",
       "   'hr_3',\n",
       "   'hr_4',\n",
       "   'hr_5',\n",
       "   'hr_6',\n",
       "   'hrv_1',\n",
       "   'hrv_2',\n",
       "   'hrv_3',\n",
       "   'hrv_4',\n",
       "   'hrv_5',\n",
       "   'hrv_6',\n",
       "   'Arousal',\n",
       "   'Valence',\n",
       "   'Engagement',\n",
       "   'Familiarity'],\n",
       "  'optimal_k': 4,\n",
       "  'clusterer': KMeans(n_clusters=4, n_init='auto', random_state=27),\n",
       "  'ARI': 0.01789239686592862}]"
      ]
     },
     "execution_count": 8,
     "metadata": {},
     "output_type": "execute_result"
    }
   ],
   "source": [
    "output_metrics_test"
   ]
  },
  {
   "cell_type": "code",
   "execution_count": null,
   "metadata": {},
   "outputs": [],
   "source": []
  }
 ],
 "metadata": {
  "kernelspec": {
   "display_name": ".venv",
   "language": "python",
   "name": "python3"
  },
  "language_info": {
   "codemirror_mode": {
    "name": "ipython",
    "version": 3
   },
   "file_extension": ".py",
   "mimetype": "text/x-python",
   "name": "python",
   "nbconvert_exporter": "python",
   "pygments_lexer": "ipython3",
   "version": "3.11.5"
  },
  "orig_nbformat": 4
 },
 "nbformat": 4,
 "nbformat_minor": 2
}
