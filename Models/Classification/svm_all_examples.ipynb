{
 "cells": [
  {
   "cell_type": "code",
   "execution_count": 12,
   "metadata": {},
   "outputs": [],
   "source": [
    "from sklearn.svm import SVC\n",
    "import os \n",
    "import pandas as pd\n",
    "import pickle\n",
    "import numpy as np\n",
    "from sklearn.metrics import accuracy_score, precision_score, recall_score, f1_score, roc_auc_score, confusion_matrix"
   ]
  },
  {
   "cell_type": "code",
   "execution_count": 13,
   "metadata": {},
   "outputs": [],
   "source": [
    "# Load data\n",
    "data_path = \"../../data\"\n",
    "X_train = pd.read_csv(os.path.join(data_path, \"X_train_pca.csv\"))\n",
    "y_train_org = pd.read_csv(os.path.join(data_path, \"y_train_pca.csv\"))\n",
    "X_test = pd.read_csv(os.path.join(data_path, \"X_test_pca.csv\"))\n",
    "y_test_org = pd.read_csv(os.path.join(data_path, \"y_test_pca.csv\"))"
   ]
  },
  {
   "cell_type": "code",
   "execution_count": 14,
   "metadata": {},
   "outputs": [],
   "source": [
    "traits = ['Extraversion', 'Agreeableness', 'Conscientiousness', 'Emotional Stability', 'Openness']"
   ]
  },
  {
   "cell_type": "code",
   "execution_count": 15,
   "metadata": {},
   "outputs": [],
   "source": [
    "# Create results directory\n",
    "results_path = \"../../results\"\n",
    "specific_results_path = os.path.join(\"../../results\", \"svm_classification\")\n",
    "os.makedirs(results_path, exist_ok=True)\n",
    "os.makedirs(specific_results_path, exist_ok=True)"
   ]
  },
  {
   "cell_type": "code",
   "execution_count": 16,
   "metadata": {},
   "outputs": [],
   "source": [
    "def calc_roc_auc(y_true, y_pred):\n",
    "    y_true = np.array(y_true)\n",
    "    y_pred = np.array(y_pred)\n",
    "    n_classes = np.unique(y_true)\n",
    "    roc_auc_scores = []\n",
    "    for label in n_classes:\n",
    "        # Create binary labels for the current class vs. all other classes\n",
    "        y_true_class = (y_true == label).astype(int)\n",
    "        y_pred_class = (y_pred == label).astype(int)\n",
    "        \n",
    "        # Calculate ROC AUC for the current class\n",
    "        roc_auc = roc_auc_score(y_true_class, y_pred_class)\n",
    "        roc_auc_scores.append(roc_auc)\n",
    "    return roc_auc_scores"
   ]
  },
  {
   "cell_type": "code",
   "execution_count": 17,
   "metadata": {},
   "outputs": [
    {
     "name": "stdout",
     "output_type": "stream",
     "text": [
      "Processing Extraversion\n",
      "Accuracy: 0.3605769230769231\n",
      "Precision: 0.3933491627163862\n",
      "Recall: 0.3605769230769231\n",
      "F1-Score: 0.37298548823787847\n",
      "ROC AUC: [0.4896383186705767, 0.544868238557559, 0.46948728087518116]\n",
      "Confusion Matrix:\n",
      "[[20 23 32]\n",
      " [53 95 58]\n",
      " [45 55 35]]\n",
      "\n",
      "\n",
      "\n",
      "Processing Agreeableness\n",
      "Accuracy: 0.5024038461538461\n",
      "Precision: 0.5003152509452913\n",
      "Recall: 0.5024038461538461\n",
      "F1-Score: 0.5012893658145285\n",
      "ROC AUC: [0.48582268845595755, 0.48582268845595755]\n",
      "Confusion Matrix:\n",
      "[[ 67 106]\n",
      " [101 142]]\n",
      "\n",
      "\n",
      "\n",
      "Processing Conscientiousness\n",
      "Accuracy: 0.53125\n",
      "Precision: 0.5274894578313253\n",
      "Recall: 0.53125\n",
      "F1-Score: 0.529005839846894\n",
      "ROC AUC: [0.516570928775737, 0.516570928775737]\n",
      "Confusion Matrix:\n",
      "[[ 74 103]\n",
      " [ 92 147]]\n",
      "\n",
      "\n",
      "\n",
      "Processing Emotional Stability\n",
      "Accuracy: 0.5697115384615384\n",
      "Precision: 0.506632423751989\n",
      "Recall: 0.5697115384615384\n",
      "F1-Score: 0.528687769632098\n",
      "ROC AUC: [0.4770897972031116, 0.4981327358087922, 0.4972016873407676]\n",
      "Confusion Matrix:\n",
      "[[  8  51   4]\n",
      " [ 49 227   8]\n",
      " [ 12  55   2]]\n",
      "\n",
      "\n",
      "\n",
      "Processing Openness\n",
      "Accuracy: 0.5985576923076923\n",
      "Precision: 0.5841877498464556\n",
      "Recall: 0.5985576923076923\n",
      "F1-Score: 0.5899385142779597\n",
      "ROC AUC: [0.5358024056749255, 0.5358024056749254]\n",
      "Confusion Matrix:\n",
      "[[201  73]\n",
      " [ 94  48]]\n",
      "\n",
      "\n",
      "\n"
     ]
    }
   ],
   "source": [
    "# Cycle through traits\n",
    "\n",
    "for trait in traits:\n",
    "    print(f\"Processing {trait}\")\n",
    "    trait_bin = trait + \"_bin\"\n",
    "    label_mapping = {'negative': 0, 'neutral': 1, 'positive': 2}\n",
    "    y_train = [label_mapping[label] for label in y_train_org[trait_bin]]\n",
    "    y_test = [label_mapping[label] for label in y_test_org[trait_bin]]\n",
    "\n",
    "    svm_classifier = SVC(kernel='sigmoid', C=1.0, random_state=27)\n",
    "    svm_classifier.fit(X_train, y_train)\n",
    "\n",
    "    y_pred = svm_classifier.predict(X_test)\n",
    "    y_true = y_test\n",
    "\n",
    "    # Compute metrics\n",
    "    accuracy = accuracy_score(y_true, y_pred)\n",
    "    precision = precision_score(y_true, y_pred, average=\"weighted\")\n",
    "    recall = recall_score(y_true, y_pred, average=\"weighted\")\n",
    "    f1 = f1_score(y_true, y_pred, average=\"weighted\")\n",
    "    roc_auc = calc_roc_auc(y_true, y_pred)\n",
    "    conf_matrix = confusion_matrix(y_true, y_pred)\n",
    "\n",
    "    print(f'Accuracy: {accuracy}')\n",
    "    print(f'Precision: {precision}')\n",
    "    print(f'Recall: {recall}')\n",
    "    print(f'F1-Score: {f1}')\n",
    "    print(f'ROC AUC: {roc_auc}')\n",
    "    print(f'Confusion Matrix:\\n{conf_matrix}')\n",
    "    print(\"\\n\\n\")\n",
    "    metrics = {\"accuracy\": accuracy, \"precision\": precision, \"recall\": recall, \"f1_score\": f1, \"roc_auc\": roc_auc, \"conf_matrix\": conf_matrix}\n",
    "\n",
    "    # Save model and metrics \n",
    "    curr_result_path = os.path.join(specific_results_path, trait)\n",
    "    os.makedirs(curr_result_path, exist_ok=True)\n",
    "    with open(os.path.join(curr_result_path, f'svm_model.pkl'), 'wb') as file:\n",
    "        pickle.dump(svm_classifier, file)\n",
    "    with open(os.path.join(curr_result_path, f'perf_metrics.pkl'), 'wb') as file:\n",
    "        pickle.dump(metrics, file)"
   ]
  },
  {
   "cell_type": "code",
   "execution_count": 18,
   "metadata": {},
   "outputs": [],
   "source": [
    "# Test load\n",
    "with open(os.path.join(curr_result_path, f'perf_metrics.pkl'), 'rb') as file:\n",
    "    metrics = pickle.load(file)\n"
   ]
  },
  {
   "cell_type": "code",
   "execution_count": null,
   "metadata": {},
   "outputs": [],
   "source": []
  }
 ],
 "metadata": {
  "kernelspec": {
   "display_name": ".venv",
   "language": "python",
   "name": "python3"
  },
  "language_info": {
   "codemirror_mode": {
    "name": "ipython",
    "version": 3
   },
   "file_extension": ".py",
   "mimetype": "text/x-python",
   "name": "python",
   "nbconvert_exporter": "python",
   "pygments_lexer": "ipython3",
   "version": "3.11.5"
  },
  "orig_nbformat": 4
 },
 "nbformat": 4,
 "nbformat_minor": 2
}
