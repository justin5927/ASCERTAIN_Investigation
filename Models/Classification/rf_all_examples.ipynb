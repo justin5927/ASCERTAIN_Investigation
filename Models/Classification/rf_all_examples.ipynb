{
 "cells": [
  {
   "cell_type": "code",
   "execution_count": 2,
   "metadata": {},
   "outputs": [],
   "source": [
    "from sklearn.ensemble import RandomForestClassifier\n",
    "import os \n",
    "import pandas as pd\n",
    "import pickle\n",
    "import numpy as np\n",
    "from sklearn.metrics import accuracy_score, precision_score, recall_score, f1_score, roc_auc_score, confusion_matrix"
   ]
  },
  {
   "cell_type": "code",
   "execution_count": 17,
   "metadata": {},
   "outputs": [],
   "source": [
    "# Load data\n",
    "data_path = \"../../data\"\n",
    "X_train = pd.read_csv(os.path.join(data_path, \"X_train_pca.csv\"))\n",
    "y_train_org = pd.read_csv(os.path.join(data_path, \"y_train_pca.csv\"))\n",
    "X_test = pd.read_csv(os.path.join(data_path, \"X_test_pca.csv\"))\n",
    "y_test_org = pd.read_csv(os.path.join(data_path, \"y_test_pca.csv\"))"
   ]
  },
  {
   "cell_type": "code",
   "execution_count": 18,
   "metadata": {},
   "outputs": [],
   "source": [
    "traits = ['Extraversion', 'Agreeableness', 'Conscientiousness', 'Emotional Stability', 'Openness']"
   ]
  },
  {
   "cell_type": "code",
   "execution_count": 19,
   "metadata": {},
   "outputs": [],
   "source": [
    "# Create results directory\n",
    "results_path = \"../../results\"\n",
    "specific_results_path = os.path.join(\"../../results\", \"rf_classification\")\n",
    "os.makedirs(results_path, exist_ok=True)\n",
    "os.makedirs(specific_results_path, exist_ok=True)"
   ]
  },
  {
   "cell_type": "code",
   "execution_count": 20,
   "metadata": {},
   "outputs": [],
   "source": [
    "def calc_roc_auc(y_true, y_pred):\n",
    "    y_true = np.array(y_true)\n",
    "    y_pred = np.array(y_pred)\n",
    "    n_classes = np.unique(y_true)\n",
    "    roc_auc_scores = []\n",
    "    for label in n_classes:\n",
    "        # Create binary labels for the current class vs. all other classes\n",
    "        y_true_class = (y_true == label).astype(int)\n",
    "        y_pred_class = (y_pred == label).astype(int)\n",
    "        \n",
    "        # Calculate ROC AUC for the current class\n",
    "        roc_auc = roc_auc_score(y_true_class, y_pred_class)\n",
    "        roc_auc_scores.append(roc_auc)\n",
    "    return roc_auc_scores"
   ]
  },
  {
   "cell_type": "code",
   "execution_count": 1,
   "metadata": {},
   "outputs": [
    {
     "ename": "NameError",
     "evalue": "name 'traits' is not defined",
     "output_type": "error",
     "traceback": [
      "\u001b[0;31m---------------------------------------------------------------------------\u001b[0m",
      "\u001b[0;31mNameError\u001b[0m                                 Traceback (most recent call last)",
      "Cell \u001b[0;32mIn[1], line 3\u001b[0m\n\u001b[1;32m      1\u001b[0m \u001b[39m# Cycle through traits\u001b[39;00m\n\u001b[0;32m----> 3\u001b[0m \u001b[39mfor\u001b[39;00m trait \u001b[39min\u001b[39;00m traits:\n\u001b[1;32m      4\u001b[0m     \u001b[39mprint\u001b[39m(\u001b[39mf\u001b[39m\u001b[39m\"\u001b[39m\u001b[39mProcessing \u001b[39m\u001b[39m{\u001b[39;00mtrait\u001b[39m}\u001b[39;00m\u001b[39m\"\u001b[39m)\n\u001b[1;32m      5\u001b[0m     trait_bin \u001b[39m=\u001b[39m trait \u001b[39m+\u001b[39m \u001b[39m\"\u001b[39m\u001b[39m_bin\u001b[39m\u001b[39m\"\u001b[39m\n",
      "\u001b[0;31mNameError\u001b[0m: name 'traits' is not defined"
     ]
    }
   ],
   "source": [
    "# Cycle through traits\n",
    "\n",
    "for trait in traits:\n",
    "    print(f\"Processing {trait}\")\n",
    "    trait_bin = trait + \"_bin\"\n",
    "    label_mapping = {'negative': 0, 'neutral': 1, 'positive': 2}\n",
    "    y_train = [label_mapping[label] for label in y_train_org[trait_bin]]\n",
    "    y_test = [label_mapping[label] for label in y_test_org[trait_bin]]\n",
    "\n",
    "    random_forest_model = RandomForestClassifier(random_state=27)\n",
    "    random_forest_model.fit(X_train, y_train)\n",
    "\n",
    "    y_pred = random_forest_model.predict(X_test)\n",
    "    y_true = y_test\n",
    "\n",
    "    # Compute metrics\n",
    "    accuracy = accuracy_score(y_true, y_pred)\n",
    "    precision = precision_score(y_true, y_pred, average=\"weighted\")\n",
    "    recall = recall_score(y_true, y_pred, average=\"weighted\")\n",
    "    f1 = f1_score(y_true, y_pred, average=\"weighted\")\n",
    "    roc_auc = calc_roc_auc(y_true, y_pred)\n",
    "    conf_matrix = confusion_matrix(y_true, y_pred)\n",
    "\n",
    "    print(f'Accuracy: {accuracy}')\n",
    "    print(f'Precision: {precision}')\n",
    "    print(f'Recall: {recall}')\n",
    "    print(f'F1-Score: {f1}')\n",
    "    print(f'ROC AUC: {roc_auc}')\n",
    "    print(f'Confusion Matrix:\\n{conf_matrix}')\n",
    "    print(\"\\n\\n\")\n",
    "    metrics = {\"accuracy\": accuracy, \"precision\": precision, \"recall\": recall, \"f1_score\": f1, \"roc_auc\": roc_auc, \"conf_matrix\": conf_matrix}\n",
    "\n",
    "    # Save model and metrics \n",
    "    curr_result_path = os.path.join(specific_results_path, trait)\n",
    "    os.makedirs(curr_result_path, exist_ok=True)\n",
    "    with open(os.path.join(curr_result_path, f'rf_model.pkl'), 'wb') as file:\n",
    "        pickle.dump(random_forest_model, file)\n",
    "    with open(os.path.join(curr_result_path, f'perf_metrics.pkl'), 'wb') as file:\n",
    "        pickle.dump(metrics, file)"
   ]
  },
  {
   "cell_type": "code",
   "execution_count": 23,
   "metadata": {},
   "outputs": [],
   "source": [
    "# Test load\n",
    "with open(os.path.join(curr_result_path, f'perf_metrics.pkl'), 'rb') as file:\n",
    "    metrics = pickle.load(file)\n"
   ]
  },
  {
   "cell_type": "code",
   "execution_count": null,
   "metadata": {},
   "outputs": [],
   "source": []
  }
 ],
 "metadata": {
  "kernelspec": {
   "display_name": ".venv",
   "language": "python",
   "name": "python3"
  },
  "language_info": {
   "codemirror_mode": {
    "name": "ipython",
    "version": 3
   },
   "file_extension": ".py",
   "mimetype": "text/x-python",
   "name": "python",
   "nbconvert_exporter": "python",
   "pygments_lexer": "ipython3",
   "version": "3.11.5"
  },
  "orig_nbformat": 4
 },
 "nbformat": 4,
 "nbformat_minor": 2
}
