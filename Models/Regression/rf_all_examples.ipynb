{
 "cells": [
  {
   "cell_type": "code",
   "execution_count": 18,
   "metadata": {},
   "outputs": [],
   "source": [
    "from sklearn.ensemble import RandomForestRegressor\n",
    "import os \n",
    "import pandas as pd\n",
    "import pickle\n",
    "import numpy as np\n",
    "from sklearn.metrics import mean_absolute_error, mean_squared_error, r2_score, mean_absolute_percentage_error"
   ]
  },
  {
   "cell_type": "code",
   "execution_count": 19,
   "metadata": {},
   "outputs": [],
   "source": [
    "# Load data\n",
    "data_path = \"../../data\"\n",
    "X_train = pd.read_csv(os.path.join(data_path, \"X_train_pca.csv\"))\n",
    "y_train_org = pd.read_csv(os.path.join(data_path, \"y_train_pca.csv\"))\n",
    "X_test = pd.read_csv(os.path.join(data_path, \"X_test_pca.csv\"))\n",
    "y_test_org = pd.read_csv(os.path.join(data_path, \"y_test_pca.csv\"))"
   ]
  },
  {
   "cell_type": "code",
   "execution_count": 20,
   "metadata": {},
   "outputs": [],
   "source": [
    "traits = ['Extraversion', 'Agreeableness', 'Conscientiousness', 'Emotional Stability', 'Openness']"
   ]
  },
  {
   "cell_type": "code",
   "execution_count": 21,
   "metadata": {},
   "outputs": [],
   "source": [
    "# Create results directory\n",
    "results_path = \"../../results\"\n",
    "specific_results_path = os.path.join(\"../../results\", \"rf_regression\")\n",
    "os.makedirs(results_path, exist_ok=True)\n",
    "os.makedirs(specific_results_path, exist_ok=True)"
   ]
  },
  {
   "cell_type": "code",
   "execution_count": 22,
   "metadata": {},
   "outputs": [
    {
     "name": "stdout",
     "output_type": "stream",
     "text": [
      "Processing Extraversion\n",
      "Mean Absolute Error (MAE): 0.8611538461538465\n",
      "Mean Squared Error (MSE): 1.0116942307692312\n",
      "Root Mean Squared Error (RMSE): 1.0058301202336462\n",
      "R-squared (R2) Score: 0.1167402038139439\n",
      "Mean Absolute Percentage Error (MAPE): 0.22155789111147198\n",
      "Mean Percentage Error (MPE): -6.937077430000786\n",
      "\n",
      "\n",
      "\n",
      "Processing Agreeableness\n",
      "Mean Absolute Error (MAE): 0.5877163461538462\n",
      "Mean Squared Error (MSE): 0.5415104038461538\n",
      "Root Mean Squared Error (RMSE): 0.7358739048547338\n",
      "R-squared (R2) Score: 0.13235625081071134\n",
      "Mean Absolute Percentage Error (MAPE): 0.1203804951483629\n",
      "Mean Percentage Error (MPE): -1.5216058735064626\n",
      "\n",
      "\n",
      "\n",
      "Processing Conscientiousness\n",
      "Mean Absolute Error (MAE): 0.5632908653846157\n",
      "Mean Squared Error (MSE): 0.49955588221153907\n",
      "Root Mean Squared Error (RMSE): 0.706792672720607\n",
      "R-squared (R2) Score: 0.1636847730921518\n",
      "Mean Absolute Percentage Error (MAPE): 0.11486202700364119\n",
      "Mean Percentage Error (MPE): -1.9845813252291955\n",
      "\n",
      "\n",
      "\n",
      "Processing Emotional Stability\n",
      "Mean Absolute Error (MAE): 0.6486826923076919\n",
      "Mean Squared Error (MSE): 0.7023290240384613\n",
      "Root Mean Squared Error (RMSE): 0.8380507287977628\n",
      "R-squared (R2) Score: 0.12908573621632136\n",
      "Mean Absolute Percentage Error (MAPE): 0.16923516448208872\n",
      "Mean Percentage Error (MPE): -2.788459625926338\n",
      "\n",
      "\n",
      "\n",
      "Processing Openness\n",
      "Mean Absolute Error (MAE): 0.4802620192307692\n",
      "Mean Squared Error (MSE): 0.41593182932692285\n",
      "Root Mean Squared Error (RMSE): 0.6449277706277834\n",
      "R-squared (R2) Score: 0.07948908019371081\n",
      "Mean Absolute Percentage Error (MAPE): 0.0958035201155351\n",
      "Mean Percentage Error (MPE): -0.9656788881913722\n",
      "\n",
      "\n",
      "\n"
     ]
    }
   ],
   "source": [
    "# Cycle through traits\n",
    "\n",
    "for trait in traits:\n",
    "    print(f\"Processing {trait}\")\n",
    "    y_train = y_train_org[trait]\n",
    "    y_test = y_test_org[trait]\n",
    "\n",
    "    random_forest_model = RandomForestRegressor(random_state=27)\n",
    "    random_forest_model.fit(X_train, y_train)\n",
    "\n",
    "    y_pred = random_forest_model.predict(X_test)\n",
    "    y_true = y_test\n",
    "\n",
    "    # Compute metrics\n",
    "    # Calculate Mean Absolute Error (MAE)\n",
    "    mae = mean_absolute_error(y_true, y_pred)\n",
    "    # Calculate Mean Squared Error (MSE)\n",
    "    mse = mean_squared_error(y_true, y_pred)\n",
    "    # Calculate Root Mean Squared Error (RMSE)\n",
    "    rmse = mean_squared_error(y_true, y_pred, squared=False)\n",
    "    # Calculate R-squared (R2) Score\n",
    "    r2 = r2_score(y_true, y_pred)\n",
    "    # Calculate Mean Absolute Percentage Error (MAPE)\n",
    "    mape = mean_absolute_percentage_error(y_true, y_pred)\n",
    "    # Calculate Mean Percentage Error (MPE)\n",
    "    mpe = (1/len(y_true)) * sum(((y_true[i] - y_pred[i]) / y_true[i]) * 100 for i in range(len(y_true)))\n",
    "\n",
    "    print(\"Mean Absolute Error (MAE):\", mae)\n",
    "    print(\"Mean Squared Error (MSE):\", mse)\n",
    "    print(\"Root Mean Squared Error (RMSE):\", rmse)\n",
    "    print(\"R-squared (R2) Score:\", r2)\n",
    "    print(\"Mean Absolute Percentage Error (MAPE):\", mape)\n",
    "    print(\"Mean Percentage Error (MPE):\", mpe)\n",
    "    print(\"\\n\\n\")\n",
    "\n",
    "    # Add metrics to dict\n",
    "    metrics = {\"mae\": mae, \"mse\": mse, \"rmse\": rmse, \"r2\": r2, \"mape\": mape}\n",
    "\n",
    "    # Save model and metrics \n",
    "    curr_result_path = os.path.join(specific_results_path, trait)\n",
    "    os.makedirs(curr_result_path, exist_ok=True)\n",
    "    with open(os.path.join(curr_result_path, f'rf_model.pkl'), 'wb') as file:\n",
    "        pickle.dump(random_forest_model, file)\n",
    "    with open(os.path.join(curr_result_path, f'perf_metrics.pkl'), 'wb') as file:\n",
    "        pickle.dump(metrics, file)"
   ]
  },
  {
   "cell_type": "code",
   "execution_count": 23,
   "metadata": {},
   "outputs": [],
   "source": [
    "# Test load\n",
    "with open(os.path.join(curr_result_path, f'perf_metrics.pkl'), 'rb') as file:\n",
    "    metrics = pickle.load(file)\n"
   ]
  },
  {
   "cell_type": "code",
   "execution_count": null,
   "metadata": {},
   "outputs": [],
   "source": []
  }
 ],
 "metadata": {
  "kernelspec": {
   "display_name": ".venv",
   "language": "python",
   "name": "python3"
  },
  "language_info": {
   "codemirror_mode": {
    "name": "ipython",
    "version": 3
   },
   "file_extension": ".py",
   "mimetype": "text/x-python",
   "name": "python",
   "nbconvert_exporter": "python",
   "pygments_lexer": "ipython3",
   "version": "3.11.5"
  },
  "orig_nbformat": 4
 },
 "nbformat": 4,
 "nbformat_minor": 2
}
