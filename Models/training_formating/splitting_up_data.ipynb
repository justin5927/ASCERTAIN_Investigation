{
 "cells": [
  {
   "attachments": {},
   "cell_type": "markdown",
   "metadata": {},
   "source": [
    "# Splitting this for pca features"
   ]
  },
  {
   "cell_type": "code",
   "execution_count": 77,
   "metadata": {},
   "outputs": [],
   "source": [
    "import os\n",
    "import pandas as pd\n",
    "from sklearn.model_selection import train_test_split"
   ]
  },
  {
   "cell_type": "code",
   "execution_count": 78,
   "metadata": {},
   "outputs": [],
   "source": [
    "# Load Data\n",
    "data_path = \"../../data\"\n",
    "data_file = \"pca_data.csv\"\n",
    "data_df = pd.read_csv(os.path.join(data_path, data_file))"
   ]
  },
  {
   "cell_type": "code",
   "execution_count": 79,
   "metadata": {},
   "outputs": [],
   "source": [
    "# Split into x and y \n",
    "features = ['PC1', 'PC2', 'PC3', 'PC4', 'PC5', 'PC6', 'PC7', 'PC8']\n",
    "outputs = ['Extraversion', 'Agreeableness', 'Conscientiousness', 'Emotional Stability', 'Openness',\n",
    "       'Extraversion_bin', 'Agreeableness_bin', 'Conscientiousness_bin',\n",
    "       'Emotional Stability_bin', 'Openness_bin']\n",
    "\n",
    "X = data_df[features]\n",
    "y = data_df[outputs]"
   ]
  },
  {
   "cell_type": "code",
   "execution_count": 80,
   "metadata": {},
   "outputs": [],
   "source": [
    "X1_train, X1_test, y1_train, y1_test = train_test_split(X, y, test_size=0.2, random_state=27)"
   ]
  },
  {
   "cell_type": "code",
   "execution_count": 81,
   "metadata": {},
   "outputs": [],
   "source": [
    "# Save train and test sets \n",
    "X1_train.to_csv(os.path.join(data_path, 'X_train_pca.csv'), index=False)\n",
    "X1_test.to_csv(os.path.join(data_path, 'X_test_pca.csv'), index=False)\n",
    "y1_train.to_csv(os.path.join(data_path, 'y_train_pca.csv'), index=False)\n",
    "y1_test.to_csv(os.path.join(data_path, 'y_test_pca.csv'), index=False)"
   ]
  },
  {
   "attachments": {},
   "cell_type": "markdown",
   "metadata": {},
   "source": [
    "# Splitting for scaled features"
   ]
  },
  {
   "cell_type": "code",
   "execution_count": 82,
   "metadata": {},
   "outputs": [],
   "source": [
    "data_file = \"preprocessed_data.csv\"\n",
    "data_df = pd.read_csv(os.path.join(data_path, data_file))"
   ]
  },
  {
   "cell_type": "code",
   "execution_count": 83,
   "metadata": {},
   "outputs": [],
   "source": [
    "features = ['ibi_5', 'ibi_6', 'hr_1', 'hr_2', 'hr_3', 'hr_4', 'hr_5', 'hr_6',\n",
    "       'hrv_1', 'hrv_2', 'hrv_3', 'hrv_4', 'hrv_5', 'hrv_6', 'Arousal',\n",
    "       'Valence', 'Engagement', 'Liking', 'Familiarity']\n",
    "outputs = ['Extraversion', 'Agreeableness', 'Conscientiousness', 'Emotional Stability', 'Openness',\n",
    "       'Extraversion_bin', 'Agreeableness_bin', 'Conscientiousness_bin',\n",
    "       'Emotional Stability_bin', 'Openness_bin']\n",
    "\n",
    "X = data_df[features]\n",
    "y = data_df[outputs]\n",
    "\n",
    "X1_train, X1_test, y1_train, y1_test = train_test_split(X, y, test_size=0.2, random_state=27)\n",
    "\n",
    "# Save train and test sets \n",
    "X1_train.to_csv(os.path.join(data_path, 'X_train.csv'), index=False)\n",
    "X1_test.to_csv(os.path.join(data_path, 'X_test.csv'), index=False)\n",
    "y1_train.to_csv(os.path.join(data_path, 'y_train.csv'), index=False)\n",
    "y1_test.to_csv(os.path.join(data_path, 'y_test.csv'), index=False)"
   ]
  }
 ],
 "metadata": {
  "kernelspec": {
   "display_name": ".venv",
   "language": "python",
   "name": "python3"
  },
  "language_info": {
   "codemirror_mode": {
    "name": "ipython",
    "version": 3
   },
   "file_extension": ".py",
   "mimetype": "text/x-python",
   "name": "python",
   "nbconvert_exporter": "python",
   "pygments_lexer": "ipython3",
   "version": "3.11.5"
  },
  "orig_nbformat": 4
 },
 "nbformat": 4,
 "nbformat_minor": 2
}
