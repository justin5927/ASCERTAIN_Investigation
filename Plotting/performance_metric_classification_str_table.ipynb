{
 "cells": [
  {
   "cell_type": "code",
   "execution_count": 2,
   "metadata": {},
   "outputs": [],
   "source": [
    "import os \n",
    "import pickle"
   ]
  },
  {
   "cell_type": "code",
   "execution_count": 3,
   "metadata": {},
   "outputs": [],
   "source": [
    "traits = ['Extraversion', 'Agreeableness', 'Conscientiousness', 'Emotional Stability', 'Openness']\n",
    "results_path = \"../results\"\n",
    "models = [\"rf_classification\", \"knn_classification\", \"svm_classification\"]\n",
    "non_pca_base = \"_non_pca\"\n",
    "models_type = [\"Random Forest\", \"KNN\", \"SVM\"]\n",
    "perf_metrics = \"perf_metrics_tuned.pkl\""
   ]
  },
  {
   "cell_type": "code",
   "execution_count": 4,
   "metadata": {},
   "outputs": [],
   "source": [
    "metrics_str = \"\"\n",
    "for trait in traits:\n",
    "    for f, ff in enumerate([\"\",non_pca_base]):\n",
    "        for m, model in enumerate(models):\n",
    "            feature_type = \"PCA\" if f == 0 else \"Preprocessed\"\n",
    "            with open(os.path.join(results_path, model + ff, trait, perf_metrics), 'rb') as file:\n",
    "                output_metrics = pickle.load(file)\n",
    "            metrics_str += f'{trait}&  {feature_type}&  {models_type[m]}&  {round(output_metrics[\"accuracy\"],2)}&  {round(output_metrics[\"precision\"],2)}&   {round(output_metrics[\"recall\"],2)}&{round(output_metrics[\"f1_score\"],2)}\\\\\\ \\hline\\n'"
   ]
  },
  {
   "cell_type": "code",
   "execution_count": 4,
   "metadata": {},
   "outputs": [
    {
     "name": "stdout",
     "output_type": "stream",
     "text": [
      "Extraversion&  Preprocessed&  Random Forest&  0.6&  0.61&   0.6&0.57\\\\ \\hline\n",
      "Extraversion&  Preprocessed&  KNN&  0.53&  0.51&   0.53&0.51\\\\ \\hline\n",
      "Extraversion&  Preprocessed&  SVM&  0.56&  0.55&   0.56&0.54\\\\ \\hline\n",
      "Extraversion&  PCA&  Random Forest&  0.64&  0.64&   0.64&0.62\\\\ \\hline\n",
      "Extraversion&  PCA&  KNN&  0.63&  0.63&   0.63&0.63\\\\ \\hline\n",
      "Extraversion&  PCA&  SVM&  0.68&  0.68&   0.68&0.68\\\\ \\hline\n",
      "Agreeableness&  Preprocessed&  Random Forest&  0.68&  0.67&   0.68&0.67\\\\ \\hline\n",
      "Agreeableness&  Preprocessed&  KNN&  0.6&  0.6&   0.6&0.6\\\\ \\hline\n",
      "Agreeableness&  Preprocessed&  SVM&  0.64&  0.64&   0.64&0.64\\\\ \\hline\n",
      "Agreeableness&  PCA&  Random Forest&  0.78&  0.78&   0.78&0.78\\\\ \\hline\n",
      "Agreeableness&  PCA&  KNN&  0.74&  0.74&   0.74&0.74\\\\ \\hline\n",
      "Agreeableness&  PCA&  SVM&  0.69&  0.7&   0.69&0.69\\\\ \\hline\n",
      "Conscientiousness&  Preprocessed&  Random Forest&  0.64&  0.64&   0.64&0.63\\\\ \\hline\n",
      "Conscientiousness&  Preprocessed&  KNN&  0.71&  0.7&   0.71&0.7\\\\ \\hline\n",
      "Conscientiousness&  Preprocessed&  SVM&  0.66&  0.66&   0.66&0.65\\\\ \\hline\n",
      "Conscientiousness&  PCA&  Random Forest&  0.73&  0.72&   0.73&0.72\\\\ \\hline\n",
      "Conscientiousness&  PCA&  KNN&  0.75&  0.76&   0.75&0.75\\\\ \\hline\n",
      "Conscientiousness&  PCA&  SVM&  0.73&  0.73&   0.73&0.73\\\\ \\hline\n",
      "Emotional Stability&  Preprocessed&  Random Forest&  0.72&  0.7&   0.72&0.66\\\\ \\hline\n",
      "Emotional Stability&  Preprocessed&  KNN&  0.73&  0.71&   0.73&0.67\\\\ \\hline\n",
      "Emotional Stability&  Preprocessed&  SVM&  0.72&  0.7&   0.72&0.65\\\\ \\hline\n",
      "Emotional Stability&  PCA&  Random Forest&  0.76&  0.74&   0.76&0.72\\\\ \\hline\n",
      "Emotional Stability&  PCA&  KNN&  0.74&  0.71&   0.74&0.7\\\\ \\hline\n",
      "Emotional Stability&  PCA&  SVM&  0.74&  0.72&   0.74&0.7\\\\ \\hline\n",
      "Openness&  Preprocessed&  Random Forest&  0.67&  0.65&   0.67&0.64\\\\ \\hline\n",
      "Openness&  Preprocessed&  KNN&  0.68&  0.66&   0.68&0.66\\\\ \\hline\n",
      "Openness&  Preprocessed&  SVM&  0.68&  0.65&   0.68&0.64\\\\ \\hline\n",
      "Openness&  PCA&  Random Forest&  0.77&  0.77&   0.77&0.75\\\\ \\hline\n",
      "Openness&  PCA&  KNN&  0.72&  0.71&   0.72&0.71\\\\ \\hline\n",
      "Openness&  PCA&  SVM&  0.75&  0.75&   0.75&0.75\\\\ \\hline\n",
      "\n"
     ]
    }
   ],
   "source": [
    "print(metrics_str)"
   ]
  },
  {
   "cell_type": "code",
   "execution_count": null,
   "metadata": {},
   "outputs": [],
   "source": []
  }
 ],
 "metadata": {
  "kernelspec": {
   "display_name": "ascertain-investigation-iYp4vF4l-py3.10",
   "language": "python",
   "name": "python3"
  },
  "language_info": {
   "codemirror_mode": {
    "name": "ipython",
    "version": 3
   },
   "file_extension": ".py",
   "mimetype": "text/x-python",
   "name": "python",
   "nbconvert_exporter": "python",
   "pygments_lexer": "ipython3",
   "version": "3.10.13"
  }
 },
 "nbformat": 4,
 "nbformat_minor": 2
}
