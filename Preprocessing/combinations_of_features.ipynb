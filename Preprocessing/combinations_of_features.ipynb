{
 "cells": [
  {
   "cell_type": "code",
   "execution_count": 1,
   "metadata": {},
   "outputs": [],
   "source": [
    "import pandas as pd \n",
    "from itertools import combinations"
   ]
  },
  {
   "cell_type": "code",
   "execution_count": 2,
   "metadata": {},
   "outputs": [],
   "source": [
    "# Load features \n",
    "features_path = \"../data/preprocessed_data.csv\"\n",
    "features_df_org = pd.read_csv(features_path)\n",
    "\n",
    "# non_features \n",
    "non_features = ['participants', 'recordings', 'Extraversion', 'Agreeableness',\n",
    "       'Conscientiousness', 'Emotional Stability', 'Openness',\n",
    "       'Extraversion_bin', 'Agreeableness_bin', 'Conscientiousness_bin',\n",
    "       'Emotional Stability_bin', 'Openness_bin']\n",
    "\n",
    "# drop participants id\n",
    "features_df = features_df_org.drop(columns=non_features)\n",
    "\n",
    "features = features_df.columns"
   ]
  },
  {
   "cell_type": "code",
   "execution_count": 3,
   "metadata": {},
   "outputs": [],
   "source": [
    "perm = []\n",
    "for r in range(1, len(features) + 1):\n",
    "    for combo in combinations(features, r):\n",
    "        perm.append(list(combo))"
   ]
  },
  {
   "cell_type": "code",
   "execution_count": 4,
   "metadata": {},
   "outputs": [
    {
     "data": {
      "text/plain": [
       "524287"
      ]
     },
     "execution_count": 4,
     "metadata": {},
     "output_type": "execute_result"
    }
   ],
   "source": [
    "len(perm)"
   ]
  },
  {
   "cell_type": "code",
   "execution_count": null,
   "metadata": {},
   "outputs": [],
   "source": []
  }
 ],
 "metadata": {
  "kernelspec": {
   "display_name": ".venv",
   "language": "python",
   "name": "python3"
  },
  "language_info": {
   "codemirror_mode": {
    "name": "ipython",
    "version": 3
   },
   "file_extension": ".py",
   "mimetype": "text/x-python",
   "name": "python",
   "nbconvert_exporter": "python",
   "pygments_lexer": "ipython3",
   "version": "3.11.5"
  },
  "orig_nbformat": 4
 },
 "nbformat": 4,
 "nbformat_minor": 2
}
